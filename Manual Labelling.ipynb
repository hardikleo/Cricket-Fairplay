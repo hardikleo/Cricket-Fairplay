{
 "cells": [
  {
   "cell_type": "code",
   "execution_count": 4,
   "id": "8bb9c30f-29ef-4c0a-bd6a-2806460f77af",
   "metadata": {},
   "outputs": [
    {
     "name": "stdout",
     "output_type": "stream",
     "text": [
      "✅ Saved manual_labels.csv with 52 entries.\n"
     ]
    }
   ],
   "source": [
    "import pandas as pd\n",
    "\n",
    "data = []\n",
    "\n",
    "# Add 10 handshake frames\n",
    "for i in range(1, 23):\n",
    "    data.append({\n",
    "        \"frame\": f\"handshake{i}.jpg\",\n",
    "        \"is_fairplay\": 1,\n",
    "        \"type\": \"handshake\"\n",
    "    })\n",
    "\n",
    "# Add 11 hug frames\n",
    "for i in range(1, 21):\n",
    "    data.append({\n",
    "        \"frame\": f\"hug{i}.jpg\",\n",
    "        \"is_fairplay\": 1,\n",
    "        \"type\": \"hug\"\n",
    "    })\n",
    "\n",
    "# Add 10 laces frames\n",
    "for i in range(1, 17):\n",
    "    data.append({\n",
    "        \"frame\": f\"laces{i}.jpg\",\n",
    "        \"is_fairplay\": 1,\n",
    "        \"type\": \"help\"\n",
    "    })\n",
    "\n",
    "# Add 21 normal (non-fairplay) frames\n",
    "for i in range(1, 28):\n",
    "    data.append({\n",
    "        \"frame\": f\"normal{i}.jpg\",\n",
    "        \"is_fairplay\": 0,\n",
    "        \"type\": \"normal\"\n",
    "    })\n",
    "\n",
    "# Save to CSV\n",
    "df = pd.DataFrame(data)\n",
    "df.to_csv(\"manual_labels.csv\", index=False)\n",
    "print(\"✅ Saved manual_labels.csv with 52 entries.\")"
   ]
  }
 ],
 "metadata": {
  "kernelspec": {
   "display_name": "Python 3 (ipykernel)",
   "language": "python",
   "name": "python3"
  },
  "language_info": {
   "codemirror_mode": {
    "name": "ipython",
    "version": 3
   },
   "file_extension": ".py",
   "mimetype": "text/x-python",
   "name": "python",
   "nbconvert_exporter": "python",
   "pygments_lexer": "ipython3",
   "version": "3.12.7"
  }
 },
 "nbformat": 4,
 "nbformat_minor": 5
}
